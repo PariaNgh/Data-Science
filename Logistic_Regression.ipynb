{
  "cells": [
    {
      "cell_type": "markdown",
      "source": [
        "## Libraries"
      ],
      "metadata": {
        "id": "R7bm1DKachJk"
      }
    },
    {
      "cell_type": "code",
      "execution_count": null,
      "metadata": {
        "id": "8PBqTVy1Ksp5"
      },
      "outputs": [],
      "source": [
        "import numpy as np\n",
        "import math\n",
        "import pandas as pd\n",
        "import matplotlib.pyplot as plt\n"
      ]
    },
    {
      "cell_type": "code",
      "source": [
        "\n",
        "! pip install utils"
      ],
      "metadata": {
        "colab": {
          "base_uri": "https://localhost:8080/"
        },
        "id": "usyQwcZ4dZOl",
        "outputId": "ce8d7a8e-2512-4443-baa3-06c54348ec1a"
      },
      "execution_count": null,
      "outputs": [
        {
          "output_type": "stream",
          "name": "stdout",
          "text": [
            "Looking in indexes: https://pypi.org/simple, https://us-python.pkg.dev/colab-wheels/public/simple/\n",
            "Collecting utils\n",
            "  Downloading utils-1.0.1-py2.py3-none-any.whl (21 kB)\n",
            "Installing collected packages: utils\n",
            "Successfully installed utils-1.0.1\n"
          ]
        }
      ]
    },
    {
      "cell_type": "markdown",
      "source": [
        "## Data"
      ],
      "metadata": {
        "id": "lTCjiVs8pOfr"
      }
    },
    {
      "cell_type": "code",
      "source": [
        "! pip install kaggle"
      ],
      "metadata": {
        "colab": {
          "base_uri": "https://localhost:8080/"
        },
        "id": "e9hVsmNVhp1V",
        "outputId": "5c41950d-000a-4e9b-adf2-a93138085b08"
      },
      "execution_count": null,
      "outputs": [
        {
          "output_type": "stream",
          "name": "stdout",
          "text": [
            "Looking in indexes: https://pypi.org/simple, https://us-python.pkg.dev/colab-wheels/public/simple/\n",
            "Requirement already satisfied: kaggle in /usr/local/lib/python3.8/dist-packages (1.5.12)\n",
            "Requirement already satisfied: python-dateutil in /usr/local/lib/python3.8/dist-packages (from kaggle) (2.8.2)\n",
            "Requirement already satisfied: certifi in /usr/local/lib/python3.8/dist-packages (from kaggle) (2022.12.7)\n",
            "Requirement already satisfied: requests in /usr/local/lib/python3.8/dist-packages (from kaggle) (2.25.1)\n",
            "Requirement already satisfied: urllib3 in /usr/local/lib/python3.8/dist-packages (from kaggle) (1.24.3)\n",
            "Requirement already satisfied: tqdm in /usr/local/lib/python3.8/dist-packages (from kaggle) (4.64.1)\n",
            "Requirement already satisfied: six>=1.10 in /usr/local/lib/python3.8/dist-packages (from kaggle) (1.15.0)\n",
            "Requirement already satisfied: python-slugify in /usr/local/lib/python3.8/dist-packages (from kaggle) (7.0.0)\n",
            "Requirement already satisfied: text-unidecode>=1.3 in /usr/local/lib/python3.8/dist-packages (from python-slugify->kaggle) (1.3)\n",
            "Requirement already satisfied: chardet<5,>=3.0.2 in /usr/local/lib/python3.8/dist-packages (from requests->kaggle) (4.0.0)\n",
            "Requirement already satisfied: idna<3,>=2.5 in /usr/local/lib/python3.8/dist-packages (from requests->kaggle) (2.10)\n"
          ]
        }
      ]
    },
    {
      "cell_type": "code",
      "source": [
        "! mkdir ~/.kaggle"
      ],
      "metadata": {
        "id": "5wSSMyxokq5_"
      },
      "execution_count": null,
      "outputs": []
    },
    {
      "cell_type": "code",
      "source": [
        "!cp /content/drive/MyDrive/ColabNotebooks/kaggle.json ~/.kaggle/kaggle.json"
      ],
      "metadata": {
        "id": "UHV6JjuTmG4E"
      },
      "execution_count": null,
      "outputs": []
    },
    {
      "cell_type": "code",
      "source": [
        "! kaggle datasets download -d dragonheir/logistic-regression"
      ],
      "metadata": {
        "colab": {
          "base_uri": "https://localhost:8080/"
        },
        "id": "QmM_EIk4n28k",
        "outputId": "3ea155d9-4c9c-44fe-a022-5db8868c5024"
      },
      "execution_count": null,
      "outputs": [
        {
          "output_type": "stream",
          "name": "stdout",
          "text": [
            "Downloading logistic-regression.zip to /content\n",
            "\r  0% 0.00/3.27k [00:00<?, ?B/s]\n",
            "\r100% 3.27k/3.27k [00:00<00:00, 2.32MB/s]\n"
          ]
        }
      ]
    },
    {
      "cell_type": "code",
      "source": [
        "! unzip logistic-regression.zip"
      ],
      "metadata": {
        "colab": {
          "base_uri": "https://localhost:8080/"
        },
        "id": "DYqWC57zoa19",
        "outputId": "02ac533c-0761-498d-efa1-03902d98938a"
      },
      "execution_count": null,
      "outputs": [
        {
          "output_type": "stream",
          "name": "stdout",
          "text": [
            "Archive:  logistic-regression.zip\n",
            "  inflating: Social_Network_Ads.csv  \n"
          ]
        }
      ]
    },
    {
      "cell_type": "code",
      "source": [
        "df = pd.read_csv('/content/Social_Network_Ads.csv')"
      ],
      "metadata": {
        "id": "Nh8Ps1e9mFDK"
      },
      "execution_count": null,
      "outputs": []
    },
    {
      "cell_type": "code",
      "source": [
        "df.head"
      ],
      "metadata": {
        "colab": {
          "base_uri": "https://localhost:8080/"
        },
        "id": "XiT5o-KrxSo3",
        "outputId": "a6247972-aacd-421c-9a78-48873b948f63"
      },
      "execution_count": null,
      "outputs": [
        {
          "output_type": "execute_result",
          "data": {
            "text/plain": [
              "<bound method NDFrame.head of      Gender  Age  EstimatedSalary  Purchased\n",
              "0      Male   19            19000          0\n",
              "1      Male   35            20000          0\n",
              "2    Female   26            43000          0\n",
              "3    Female   27            57000          0\n",
              "4      Male   19            76000          0\n",
              "..      ...  ...              ...        ...\n",
              "395  Female   46            41000          1\n",
              "396    Male   51            23000          1\n",
              "397  Female   50            20000          1\n",
              "398    Male   36            33000          0\n",
              "399  Female   49            36000          1\n",
              "\n",
              "[400 rows x 4 columns]>"
            ]
          },
          "metadata": {},
          "execution_count": 21
        }
      ]
    },
    {
      "cell_type": "code",
      "source": [
        "\n",
        "df1= df[['Age', 'EstimatedSalary']]\n",
        "\n",
        "# Normalizing Data\n",
        "\n",
        "for column in df1.columns:\n",
        "  df1[column]= df1[column]/ df1[column].abs().max()\n",
        "\n",
        "# Train Test Split\n",
        "\n",
        "df1_train= df1[:250]\n",
        "df1_test= df1[250:]\n",
        "df2= df['Purchased']\n",
        "df2_train= df2[:250]\n",
        "df2_test= df2[250:]\n",
        "\n"
      ],
      "metadata": {
        "colab": {
          "base_uri": "https://localhost:8080/",
          "height": 547
        },
        "id": "1F7r19bCtp_H",
        "outputId": "6c023647-0bf4-4ac2-d49d-9f13571e84fa"
      },
      "execution_count": null,
      "outputs": [
        {
          "output_type": "stream",
          "name": "stderr",
          "text": [
            "<ipython-input-47-01b359691145>:3: SettingWithCopyWarning: \n",
            "A value is trying to be set on a copy of a slice from a DataFrame.\n",
            "Try using .loc[row_indexer,col_indexer] = value instead\n",
            "\n",
            "See the caveats in the documentation: https://pandas.pydata.org/pandas-docs/stable/user_guide/indexing.html#returning-a-view-versus-a-copy\n",
            "  df1[column]= df1[column]/ df1[column].abs().max()\n"
          ]
        },
        {
          "output_type": "execute_result",
          "data": {
            "text/plain": [
              "          Age  EstimatedSalary\n",
              "0    0.316667         0.126667\n",
              "1    0.583333         0.133333\n",
              "2    0.433333         0.286667\n",
              "3    0.450000         0.380000\n",
              "4    0.316667         0.506667\n",
              "..        ...              ...\n",
              "395  0.766667         0.273333\n",
              "396  0.850000         0.153333\n",
              "397  0.833333         0.133333\n",
              "398  0.600000         0.220000\n",
              "399  0.816667         0.240000\n",
              "\n",
              "[400 rows x 2 columns]"
            ],
            "text/html": [
              "\n",
              "  <div id=\"df-9c49fadd-95d2-4313-9fc9-1ff051ad6065\">\n",
              "    <div class=\"colab-df-container\">\n",
              "      <div>\n",
              "<style scoped>\n",
              "    .dataframe tbody tr th:only-of-type {\n",
              "        vertical-align: middle;\n",
              "    }\n",
              "\n",
              "    .dataframe tbody tr th {\n",
              "        vertical-align: top;\n",
              "    }\n",
              "\n",
              "    .dataframe thead th {\n",
              "        text-align: right;\n",
              "    }\n",
              "</style>\n",
              "<table border=\"1\" class=\"dataframe\">\n",
              "  <thead>\n",
              "    <tr style=\"text-align: right;\">\n",
              "      <th></th>\n",
              "      <th>Age</th>\n",
              "      <th>EstimatedSalary</th>\n",
              "    </tr>\n",
              "  </thead>\n",
              "  <tbody>\n",
              "    <tr>\n",
              "      <th>0</th>\n",
              "      <td>0.316667</td>\n",
              "      <td>0.126667</td>\n",
              "    </tr>\n",
              "    <tr>\n",
              "      <th>1</th>\n",
              "      <td>0.583333</td>\n",
              "      <td>0.133333</td>\n",
              "    </tr>\n",
              "    <tr>\n",
              "      <th>2</th>\n",
              "      <td>0.433333</td>\n",
              "      <td>0.286667</td>\n",
              "    </tr>\n",
              "    <tr>\n",
              "      <th>3</th>\n",
              "      <td>0.450000</td>\n",
              "      <td>0.380000</td>\n",
              "    </tr>\n",
              "    <tr>\n",
              "      <th>4</th>\n",
              "      <td>0.316667</td>\n",
              "      <td>0.506667</td>\n",
              "    </tr>\n",
              "    <tr>\n",
              "      <th>...</th>\n",
              "      <td>...</td>\n",
              "      <td>...</td>\n",
              "    </tr>\n",
              "    <tr>\n",
              "      <th>395</th>\n",
              "      <td>0.766667</td>\n",
              "      <td>0.273333</td>\n",
              "    </tr>\n",
              "    <tr>\n",
              "      <th>396</th>\n",
              "      <td>0.850000</td>\n",
              "      <td>0.153333</td>\n",
              "    </tr>\n",
              "    <tr>\n",
              "      <th>397</th>\n",
              "      <td>0.833333</td>\n",
              "      <td>0.133333</td>\n",
              "    </tr>\n",
              "    <tr>\n",
              "      <th>398</th>\n",
              "      <td>0.600000</td>\n",
              "      <td>0.220000</td>\n",
              "    </tr>\n",
              "    <tr>\n",
              "      <th>399</th>\n",
              "      <td>0.816667</td>\n",
              "      <td>0.240000</td>\n",
              "    </tr>\n",
              "  </tbody>\n",
              "</table>\n",
              "<p>400 rows × 2 columns</p>\n",
              "</div>\n",
              "      <button class=\"colab-df-convert\" onclick=\"convertToInteractive('df-9c49fadd-95d2-4313-9fc9-1ff051ad6065')\"\n",
              "              title=\"Convert this dataframe to an interactive table.\"\n",
              "              style=\"display:none;\">\n",
              "        \n",
              "  <svg xmlns=\"http://www.w3.org/2000/svg\" height=\"24px\"viewBox=\"0 0 24 24\"\n",
              "       width=\"24px\">\n",
              "    <path d=\"M0 0h24v24H0V0z\" fill=\"none\"/>\n",
              "    <path d=\"M18.56 5.44l.94 2.06.94-2.06 2.06-.94-2.06-.94-.94-2.06-.94 2.06-2.06.94zm-11 1L8.5 8.5l.94-2.06 2.06-.94-2.06-.94L8.5 2.5l-.94 2.06-2.06.94zm10 10l.94 2.06.94-2.06 2.06-.94-2.06-.94-.94-2.06-.94 2.06-2.06.94z\"/><path d=\"M17.41 7.96l-1.37-1.37c-.4-.4-.92-.59-1.43-.59-.52 0-1.04.2-1.43.59L10.3 9.45l-7.72 7.72c-.78.78-.78 2.05 0 2.83L4 21.41c.39.39.9.59 1.41.59.51 0 1.02-.2 1.41-.59l7.78-7.78 2.81-2.81c.8-.78.8-2.07 0-2.86zM5.41 20L4 18.59l7.72-7.72 1.47 1.35L5.41 20z\"/>\n",
              "  </svg>\n",
              "      </button>\n",
              "      \n",
              "  <style>\n",
              "    .colab-df-container {\n",
              "      display:flex;\n",
              "      flex-wrap:wrap;\n",
              "      gap: 12px;\n",
              "    }\n",
              "\n",
              "    .colab-df-convert {\n",
              "      background-color: #E8F0FE;\n",
              "      border: none;\n",
              "      border-radius: 50%;\n",
              "      cursor: pointer;\n",
              "      display: none;\n",
              "      fill: #1967D2;\n",
              "      height: 32px;\n",
              "      padding: 0 0 0 0;\n",
              "      width: 32px;\n",
              "    }\n",
              "\n",
              "    .colab-df-convert:hover {\n",
              "      background-color: #E2EBFA;\n",
              "      box-shadow: 0px 1px 2px rgba(60, 64, 67, 0.3), 0px 1px 3px 1px rgba(60, 64, 67, 0.15);\n",
              "      fill: #174EA6;\n",
              "    }\n",
              "\n",
              "    [theme=dark] .colab-df-convert {\n",
              "      background-color: #3B4455;\n",
              "      fill: #D2E3FC;\n",
              "    }\n",
              "\n",
              "    [theme=dark] .colab-df-convert:hover {\n",
              "      background-color: #434B5C;\n",
              "      box-shadow: 0px 1px 3px 1px rgba(0, 0, 0, 0.15);\n",
              "      filter: drop-shadow(0px 1px 2px rgba(0, 0, 0, 0.3));\n",
              "      fill: #FFFFFF;\n",
              "    }\n",
              "  </style>\n",
              "\n",
              "      <script>\n",
              "        const buttonEl =\n",
              "          document.querySelector('#df-9c49fadd-95d2-4313-9fc9-1ff051ad6065 button.colab-df-convert');\n",
              "        buttonEl.style.display =\n",
              "          google.colab.kernel.accessAllowed ? 'block' : 'none';\n",
              "\n",
              "        async function convertToInteractive(key) {\n",
              "          const element = document.querySelector('#df-9c49fadd-95d2-4313-9fc9-1ff051ad6065');\n",
              "          const dataTable =\n",
              "            await google.colab.kernel.invokeFunction('convertToInteractive',\n",
              "                                                     [key], {});\n",
              "          if (!dataTable) return;\n",
              "\n",
              "          const docLinkHtml = 'Like what you see? Visit the ' +\n",
              "            '<a target=\"_blank\" href=https://colab.research.google.com/notebooks/data_table.ipynb>data table notebook</a>'\n",
              "            + ' to learn more about interactive tables.';\n",
              "          element.innerHTML = '';\n",
              "          dataTable['output_type'] = 'display_data';\n",
              "          await google.colab.output.renderOutput(dataTable, element);\n",
              "          const docLink = document.createElement('div');\n",
              "          docLink.innerHTML = docLinkHtml;\n",
              "          element.appendChild(docLink);\n",
              "        }\n",
              "      </script>\n",
              "    </div>\n",
              "  </div>\n",
              "  "
            ]
          },
          "metadata": {},
          "execution_count": 47
        }
      ]
    },
    {
      "cell_type": "code",
      "source": [
        "X_train= np.array(df1_train)\n",
        "X_test= np.array(df1_test)\n",
        "y_train= np.array(df2_train)\n",
        "y_test= np.array(df2_test)\n"
      ],
      "metadata": {
        "id": "18sqmzm3uBCX"
      },
      "execution_count": null,
      "outputs": []
    },
    {
      "cell_type": "code",
      "source": [
        "! pip install sklearn\n"
      ],
      "metadata": {
        "colab": {
          "base_uri": "https://localhost:8080/"
        },
        "id": "NEw3pR336c4Y",
        "outputId": "b1cfff91-3d89-47c9-8e1e-f3b30031c25c"
      },
      "execution_count": null,
      "outputs": [
        {
          "output_type": "stream",
          "name": "stdout",
          "text": [
            "Looking in indexes: https://pypi.org/simple, https://us-python.pkg.dev/colab-wheels/public/simple/\n",
            "Collecting sklearn\n",
            "  Downloading sklearn-0.0.post1.tar.gz (3.6 kB)\n",
            "  Preparing metadata (setup.py) ... \u001b[?25l\u001b[?25hdone\n",
            "Building wheels for collected packages: sklearn\n",
            "  Building wheel for sklearn (setup.py) ... \u001b[?25l\u001b[?25hdone\n",
            "  Created wheel for sklearn: filename=sklearn-0.0.post1-py3-none-any.whl size=2344 sha256=11d3f1fada5be0a31066e4b86e293a61c0a60346cf419587ec1a5898d08852f9\n",
            "  Stored in directory: /root/.cache/pip/wheels/14/25/f7/1cc0956978ae479e75140219088deb7a36f60459df242b1a72\n",
            "Successfully built sklearn\n",
            "Installing collected packages: sklearn\n",
            "Successfully installed sklearn-0.0.post1\n"
          ]
        }
      ]
    },
    {
      "cell_type": "code",
      "source": [
        "#from sklearn.model_selection import train_test_split\n",
        "#X_train, X_test, y_train, y_test = train_test_split(X, y, test_size= .3, random_state= 101 )"
      ],
      "metadata": {
        "id": "rtFB5Qwx7p7R"
      },
      "execution_count": null,
      "outputs": []
    },
    {
      "cell_type": "markdown",
      "source": [
        "## Functions"
      ],
      "metadata": {
        "id": "CtozTqoE-Buz"
      }
    },
    {
      "cell_type": "code",
      "execution_count": null,
      "metadata": {
        "id": "Zhaz0wkgLgpN"
      },
      "outputs": [],
      "source": [
        "def sigmoid(z):\n",
        "    f = 1/(1+np.exp(-z))\n",
        "    return f"
      ]
    },
    {
      "cell_type": "code",
      "execution_count": null,
      "metadata": {
        "id": "YFrtiaoOMaRW"
      },
      "outputs": [],
      "source": [
        "def compute_cost(X, y, w_in, b_in):\n",
        "  m= len(y)\n",
        "  loss=0\n",
        "  z= np.dot(X, w_in) + [b_in]*m\n",
        "  f= sigmoid(z)\n",
        "  for k in range(m):\n",
        "    loss+= (-y[k]*np.log(f[k])-(1-y[k])*(np.log(1-f[k])))\n",
        "  total_cost= loss/m\n",
        "  return total_cost"
      ]
    },
    {
      "cell_type": "code",
      "source": [
        "compute_cost(X_train, y_train, [.1,.2], -5)"
      ],
      "metadata": {
        "colab": {
          "base_uri": "https://localhost:8080/"
        },
        "id": "vmtoeRDPM6aQ",
        "outputId": "31c0544f-cd57-4c7d-bbee-8d7b07d184d9"
      },
      "execution_count": null,
      "outputs": [
        {
          "output_type": "execute_result",
          "data": {
            "text/plain": [
              "1.3031436486467773"
            ]
          },
          "metadata": {},
          "execution_count": 16
        }
      ]
    },
    {
      "cell_type": "code",
      "source": [
        "def compute_gradient(X , y, w_in, b_in):\n",
        "  m ,n= len(y), len(X[0])\n",
        "  dj_db= 0.\n",
        "  dj_dw=np.zeros(n)\n",
        "\n",
        "  z= np.dot(X, w_in) + [b_in]*m\n",
        "  f= sigmoid(z)\n",
        "\n",
        "  for i in range(m):\n",
        "\n",
        "    dj_dbi= f[i] - y[i]\n",
        "    dj_db+= dj_dbi\n",
        "\n",
        "    for j in range(n):\n",
        "      dj_dwij= (f[i] - y[i])*X[i][j]\n",
        "      dj_dw[j]+=dj_dwij\n",
        "\n",
        "  for k in range(n):\n",
        "    dj_dw[k]= dj_dw[k]/m\n",
        "  dj_db= dj_db/m\n",
        "\n",
        "\n",
        "  return dj_db, dj_dw\n"
      ],
      "metadata": {
        "id": "jLoeHbyUhczs"
      },
      "execution_count": null,
      "outputs": []
    },
    {
      "cell_type": "code",
      "source": [
        "def gradient_descent(X, y, w_in, b_in, cost_function, gradient_function, alpha, num_iters):\n",
        "  m= len(y)\n",
        "  n= len(X[0])\n",
        "  J_history, w_history = [], []\n",
        "  dj_dw= np.zeros(n)\n",
        "  dj_db= 0.\n",
        "  dj_db, dj_dw= gradient_function(X, y, w_in, b_in)\n",
        "\n",
        "  for i in range(num_iters):\n",
        "    w_in = w_in - alpha*(dj_dw)\n",
        "    b_in = b_in - alpha*(dj_db)\n",
        "\n",
        "    cost= compute_cost(X, y, w_in, b_in)\n",
        "    if i<10000:\n",
        "      J_history.append(cost)\n",
        "    if i% math.ceil(num_iters/10) == 0 or i == (num_iters-1):\n",
        "            w_history.append(w_in)\n",
        "            print(f\"Iteration {i:4}: Cost {float(J_history[-1]):8.2f}   \")\n",
        "  return w_in, b_in, J_history, w_history\n",
        "\n"
      ],
      "metadata": {
        "id": "u-RmJbvkbNBN"
      },
      "execution_count": null,
      "outputs": []
    },
    {
      "cell_type": "code",
      "source": [
        "def predict(X, y, w_in, b_in):\n",
        "  n, m= len(X[0]), len(y)\n",
        "  p= np.zeros(m)\n",
        "\n",
        "  z= np.dot(X, w_in) + [b_in]* m\n",
        "  f= sigmoid(z)\n",
        "  for i in range(m):\n",
        "    if f[i]>.5 or f[i]==.5:\n",
        "      p[i]= 1\n",
        "    elif f[i]<.5:\n",
        "        p[i]= 0\n",
        "\n",
        "  return p\n",
        "\n"
      ],
      "metadata": {
        "id": "CVfnDm1oi3MK"
      },
      "execution_count": null,
      "outputs": []
    },
    {
      "cell_type": "markdown",
      "source": [
        "## Evaluating model"
      ],
      "metadata": {
        "id": "mP80G9Au-Rob"
      }
    },
    {
      "cell_type": "code",
      "source": [
        "w= [1,1]\n",
        "b= 1\n",
        "alpha= 0.003\n",
        "iterations= 1000\n",
        "w, b, J_h, w_h = gradient_descent(X_train, y_train, w, b, compute_cost, compute_gradient, alpha, iterations)\n"
      ],
      "metadata": {
        "id": "Ip0HaRrKjhPV",
        "colab": {
          "base_uri": "https://localhost:8080/"
        },
        "outputId": "c1f65c37-76d7-4704-ccc2-cad37d16a3cf"
      },
      "execution_count": null,
      "outputs": [
        {
          "output_type": "stream",
          "name": "stdout",
          "text": [
            "Iteration    0: Cost     1.53   \n",
            "Iteration  100: Cost     1.37   \n",
            "Iteration  200: Cost     1.23   \n",
            "Iteration  300: Cost     1.09   \n",
            "Iteration  400: Cost     0.97   \n",
            "Iteration  500: Cost     0.86   \n",
            "Iteration  600: Cost     0.77   \n",
            "Iteration  700: Cost     0.69   \n",
            "Iteration  800: Cost     0.63   \n",
            "Iteration  900: Cost     0.60   \n",
            "Iteration  999: Cost     0.58   \n"
          ]
        }
      ]
    },
    {
      "cell_type": "code",
      "source": [
        "from sklearn.linear_model import LogisticRegression\n",
        "from sklearn.linear_model import LinearRegression\n",
        "from sklearn.metrics import classification_report\n",
        "from sklearn.metrics import confusion_matrix"
      ],
      "metadata": {
        "id": "lM45CVBwA-mx"
      },
      "execution_count": null,
      "outputs": []
    },
    {
      "cell_type": "code",
      "source": [
        "logmodel = LogisticRegression()\n",
        "logmodel.fit(X_train, y_train)\n",
        "linmodel = LinearRegression()\n",
        "linmodel.fit(X_train, y_train)"
      ],
      "metadata": {
        "colab": {
          "base_uri": "https://localhost:8080/"
        },
        "id": "1PzICk7al7MQ",
        "outputId": "c4ca1803-a6d6-46b8-fde5-f449978c8733"
      },
      "execution_count": null,
      "outputs": [
        {
          "output_type": "execute_result",
          "data": {
            "text/plain": [
              "LinearRegression()"
            ]
          },
          "metadata": {},
          "execution_count": 43
        }
      ]
    },
    {
      "cell_type": "code",
      "source": [
        "predictions_log = logmodel.predict(X_test)"
      ],
      "metadata": {
        "id": "rYu9s1xvmDlk"
      },
      "execution_count": null,
      "outputs": []
    },
    {
      "cell_type": "code",
      "source": [
        "print(classification_report(y_test, predictions_log))"
      ],
      "metadata": {
        "colab": {
          "base_uri": "https://localhost:8080/"
        },
        "id": "tjy8HZt3nD6_",
        "outputId": "54987a39-c6e8-4092-b99b-5e181cdabdd7"
      },
      "execution_count": null,
      "outputs": [
        {
          "output_type": "stream",
          "name": "stdout",
          "text": [
            "              precision    recall  f1-score   support\n",
            "\n",
            "           0       0.46      0.95      0.62        58\n",
            "           1       0.90      0.30      0.46        92\n",
            "\n",
            "    accuracy                           0.55       150\n",
            "   macro avg       0.68      0.63      0.54       150\n",
            "weighted avg       0.73      0.55      0.52       150\n",
            "\n"
          ]
        }
      ]
    },
    {
      "cell_type": "code",
      "source": [
        "linmodel.coef_"
      ],
      "metadata": {
        "colab": {
          "base_uri": "https://localhost:8080/"
        },
        "id": "SDp2_MrejrG1",
        "outputId": "da0ef47a-e9c8-4358-ff5b-e88fe2dfcb00"
      },
      "execution_count": null,
      "outputs": [
        {
          "output_type": "execute_result",
          "data": {
            "text/plain": [
              "array([1.06564622, 0.68538925])"
            ]
          },
          "metadata": {},
          "execution_count": 44
        }
      ]
    },
    {
      "cell_type": "code",
      "source": [
        "confusion_matrix(y_test, predictions_log)"
      ],
      "metadata": {
        "colab": {
          "base_uri": "https://localhost:8080/"
        },
        "id": "um61zU5SbwFI",
        "outputId": "a159b3e5-60a5-45fb-f04e-78ffa48e0b46"
      },
      "execution_count": null,
      "outputs": [
        {
          "output_type": "execute_result",
          "data": {
            "text/plain": [
              "array([[55,  3],\n",
              "       [64, 28]])"
            ]
          },
          "metadata": {},
          "execution_count": 65
        }
      ]
    },
    {
      "cell_type": "code",
      "source": [
        "def compute_reg_cost(X, y, w_in, b_in, lambda_):\n",
        "  m= len(y)\n",
        "  n= len(X[0])\n",
        "  reg = np.zeros(n)\n",
        "  for i in range(n):\n",
        "    reg[i]= w_in[i]**2\n",
        "  total_cost= compute_cost(X, y, w_in, b_in) + sum(reg)*lambda_/(2*m)\n",
        "  return total_cost"
      ],
      "metadata": {
        "id": "DecBIhRAb5UA"
      },
      "execution_count": null,
      "outputs": []
    },
    {
      "cell_type": "code",
      "source": [
        "def gradient_reg_cost(X, y, w_in, b_in, alpha, lambda_):\n",
        "  m= len(y)\n",
        "  n= len(X[0])\n",
        "  dj_db, dj_dw = compute_gradient(X, y, w_in, b_in)\n",
        "  for k in range(n):\n",
        "    dj_dw = dj_dw + w[k] * lambda_ / m\n"
      ],
      "metadata": {
        "id": "tPmiFn4nf0R1"
      },
      "execution_count": null,
      "outputs": []
    }
  ],
  "metadata": {
    "colab": {
      "provenance": []
    },
    "kernelspec": {
      "display_name": "Python 3",
      "name": "python3"
    },
    "language_info": {
      "name": "python"
    }
  },
  "nbformat": 4,
  "nbformat_minor": 0
}